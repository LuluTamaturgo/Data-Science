{
  "nbformat": 4,
  "nbformat_minor": 0,
  "metadata": {
    "colab": {
      "provenance": []
    },
    "kernelspec": {
      "name": "python3",
      "display_name": "Python 3"
    },
    "language_info": {
      "name": "python"
    }
  },
  "cells": [
    {
      "cell_type": "markdown",
      "source": [
        "# Medidas de Dispersão - Entendendo a Variabilidade de Dados"
      ],
      "metadata": {
        "id": "6pl83ngGNZsx"
      }
    },
    {
      "cell_type": "markdown",
      "source": [
        "Com as medidas de dispersão, conseguimos analisar o quão os dados estão espalhados.\n",
        "As medidas da tendência central nos informa o centro de um conjunto de dados e, as medidas de dispersão, nos informa o quanto os dados estão espalhados ao redor desse centro, ou seja, elas medem a variabilidade dos dados."
      ],
      "metadata": {
        "id": "BI7NK5wuNtIx"
      }
    },
    {
      "cell_type": "markdown",
      "source": [
        "### Para que serve?"
      ],
      "metadata": {
        "id": "YPtWutiCPXbP"
      }
    },
    {
      "cell_type": "markdown",
      "source": [
        "São essênciais para analisar a distribuição dos dados e, a sua variabilidade.\n",
        "Conseguimos identificar a consistência dos dados ou, se existem valores que se afastam significativamente da média."
      ],
      "metadata": {
        "id": "81mp-pBLPb5h"
      }
    },
    {
      "cell_type": "markdown",
      "source": [
        "* **Comparação de Conjunto de Dados:**\n",
        " * Ao comparar dois conjuntos de dados com a mesma média, por exemplo, a medida de dispersão nos ajuda a entender qual conjunto é mais homogêneo ou heterogêneo, ou seja, qual conjunto de dados é mais variável.\n",
        "\n",
        "\n",
        "* **Identificação de Outliers:**\n",
        "  * Identificar valores atípicos.\n",
        "\n",
        "* **Avaliar a qualidade de modelos:**\n",
        "  * Em modelos de machine learning, a dispersão indica a qualidade do modelo."
      ],
      "metadata": {
        "id": "5sLf6NjERuCg"
      }
    },
    {
      "cell_type": "markdown",
      "source": [
        "### Quando utilizar?"
      ],
      "metadata": {
        "id": "vi-TNYn7xz2p"
      }
    },
    {
      "cell_type": "markdown",
      "source": [
        "* **Análise Exploradoria de Dados (EDA)**:\n",
        "  * Para resumir e entender a distribuição dos dados.\n",
        "\n",
        "* **Modelagem:**\n",
        "  * Para avaliar a qualidade dos modelos e escolher o melhor modelo para um determinado problema."
      ],
      "metadata": {
        "id": "MUfbEckuz9Xy"
      }
    },
    {
      "cell_type": "markdown",
      "source": [
        "### Pricipais Medidas de Dispersão:\n",
        "\n"
      ],
      "metadata": {
        "id": "Y4EjmPdi07HK"
      }
    },
    {
      "cell_type": "markdown",
      "source": [
        "* **Amplitude:**\n",
        "  * *O que é:*\n",
        "      * Diferença entre o maior e o menor valor de um conjunto de dados.\n",
        "  * *Uso:*\n",
        "      * Dá uma ideia da variação total nos dados, mas é sensível a valores extremos (outliers).\n",
        "  \n",
        "* **Desvio Padrão:**\n",
        "    * determina um intervalo, centrado na média aritmética, no qual a maior parte dos dados está concentrada. Desse modo, quanto maior o valor do desvio-padrão, maior a irregularidade dos dados e, quanto menor o valor do desvio-padrão, menor a irregularidade dos dados.\n",
        "\n",
        "* **Quartis e intervalo interquartil:**\n",
        "    * Dividindo os dados em quatro partes iguais -  cada uma contendo 25% dos dados. Os quartis e o intervalo interquartil medem a dispersão da metade central dos dados.\n"
      ],
      "metadata": {
        "id": "iLjA2k8l5i-W"
      }
    },
    {
      "cell_type": "code",
      "source": [
        "import numpy as np\n",
        "\n",
        "# Conjunto de dados (notas de uma prova)\n",
        "notas = [7, 8, 9, 6, 10, 5, 7, 8, 9, 6]\n",
        "\n",
        "# Calculando os quartis\n",
        "Q1 = np.percentile(notas, 25)#25 representa o 1° quartil\n",
        "Q3 = np.percentile(notas, 75)#75 representa o 3° quartil\n",
        "\n",
        "# Calculando o intervalo interquartil\n",
        "IQR = Q3 - Q1\n",
        "\n",
        "print(\"Primeiro quartil:\", Q1)\n",
        "print(\"Terceiro quartil:\", Q3)\n",
        "print(\"Intervalo interquartil:\", IQR)"
      ],
      "metadata": {
        "colab": {
          "base_uri": "https://localhost:8080/"
        },
        "id": "TuT9S0nP705p",
        "outputId": "decaf398-bad4-4d1e-d487-5342dbb4c68c"
      },
      "execution_count": 1,
      "outputs": [
        {
          "output_type": "stream",
          "name": "stdout",
          "text": [
            "Primeiro quartil: 6.25\n",
            "Terceiro quartil: 8.75\n",
            "Intervalo interquartil: 2.5\n"
          ]
        }
      ]
    },
    {
      "cell_type": "markdown",
      "source": [
        "### Praticando:"
      ],
      "metadata": {
        "id": "o5tr8cOIANQf"
      }
    },
    {
      "cell_type": "code",
      "source": [
        "#Criando um dataframe com dados ficticios:\n",
        "\n",
        "import pandas as pd\n",
        "\n",
        "# Criando o DataFrame\n",
        "data = {\n",
        "    'Valores': [10, 15, 14, 18, 22, 19, 24, 26, 30, 35]\n",
        "}\n",
        "\n",
        "df = pd.DataFrame(data)\n",
        "print(df)"
      ],
      "metadata": {
        "colab": {
          "base_uri": "https://localhost:8080/"
        },
        "id": "kj7qmqI-AP5C",
        "outputId": "84735ca0-e489-4d1a-830e-75a49ae187e6"
      },
      "execution_count": 2,
      "outputs": [
        {
          "output_type": "stream",
          "name": "stdout",
          "text": [
            "   Valores\n",
            "0       10\n",
            "1       15\n",
            "2       14\n",
            "3       18\n",
            "4       22\n",
            "5       19\n",
            "6       24\n",
            "7       26\n",
            "8       30\n",
            "9       35\n"
          ]
        }
      ]
    },
    {
      "cell_type": "code",
      "source": [
        "# Calculando a média\n",
        "media = df['Valores'].mean()"
      ],
      "metadata": {
        "id": "XzUQLGrBAeLV"
      },
      "execution_count": 3,
      "outputs": []
    },
    {
      "cell_type": "markdown",
      "source": [
        ">> A variância mede a dispersão dos dados em relação à média. Uma variância alta indica que os dados estão amplamente distribuídos em torno da média."
      ],
      "metadata": {
        "id": "vFbUuH7oA9KP"
      }
    },
    {
      "cell_type": "code",
      "source": [
        "# Calculando a variância\n",
        "variancia = df['Valores'].var()"
      ],
      "metadata": {
        "id": "D5XfbRHLAg7X"
      },
      "execution_count": 4,
      "outputs": []
    },
    {
      "cell_type": "code",
      "source": [
        "# Calculando o desvio padrão\n",
        "desvio_padrao = df['Valores'].std()"
      ],
      "metadata": {
        "id": "yH4W8r5GAjzF"
      },
      "execution_count": 5,
      "outputs": []
    },
    {
      "cell_type": "code",
      "source": [
        "# Calculando a amplitude\n",
        "amplitude = df['Valores'].max() - df['Valores'].min()"
      ],
      "metadata": {
        "id": "4SR0lT9UAl5v"
      },
      "execution_count": 6,
      "outputs": []
    },
    {
      "cell_type": "markdown",
      "source": [
        ">> Intervalo Interquartil (IQR): O IQR é a diferença entre o terceiro quartil (Q3) e o primeiro quartil (Q1). Ele mede a dispersão central dos dados e é menos sensível a outliers do que a amplitude."
      ],
      "metadata": {
        "id": "Bn5CrThhBKYz"
      }
    },
    {
      "cell_type": "code",
      "source": [
        "# Calculando o intervalo interquartil (IQR)\n",
        "q1 = df['Valores'].quantile(0.25)\n",
        "q3 = df['Valores'].quantile(0.75)\n",
        "iqr = q3 - q1"
      ],
      "metadata": {
        "id": "YdjUDs_tAoW_"
      },
      "execution_count": 9,
      "outputs": []
    },
    {
      "cell_type": "code",
      "source": [
        "# Exibindo os resultados\n",
        "print(f\"Média: {media}\")\n",
        "print(f\"Variância: {variancia}\")\n",
        "print(f\"Desvio Padrão: {desvio_padrao}\")\n",
        "print(f\"Amplitude: {amplitude}\")\n",
        "print(f\"Intervalo Interquartil (IQR): {iqr}\")"
      ],
      "metadata": {
        "colab": {
          "base_uri": "https://localhost:8080/"
        },
        "id": "5Nr8DyX8Aq7F",
        "outputId": "74a733aa-4e52-4043-e6fd-ab59be7b38e1"
      },
      "execution_count": 8,
      "outputs": [
        {
          "output_type": "stream",
          "name": "stdout",
          "text": [
            "Média: 21.3\n",
            "Variância: 58.900000000000006\n",
            "Desvio Padrão: 7.674633541739958\n",
            "Amplitude: 25\n",
            "Intervalo Interquartil (IQR): 9.75\n"
          ]
        }
      ]
    },
    {
      "cell_type": "code",
      "source": [
        "import pandas as pd\n",
        "import matplotlib.pyplot as plt\n",
        "\n",
        "# Criando o DataFrame\n",
        "data = {\n",
        "    'Valores': [10, 15, 14, 18, 22, 19, 24, 26, 30, 35]\n",
        "}\n",
        "\n",
        "df = pd.DataFrame(data)\n",
        "\n",
        "\n",
        "# Criando o gráfico de dispersão\n",
        "plt.subplot(1, 2, 2)\n",
        "plt.scatter(range(len(df)), df['Valores'], color='blue')\n",
        "plt.axhline(media, color='r', linestyle='dashed', linewidth=1)\n",
        "plt.title('Scatter Plot')\n",
        "plt.xlabel('Índice')\n",
        "plt.ylabel('Valores')\n",
        "plt.annotate(f'Media: {media:.2f}', xy=(1, media), xytext=(1, media + 2),\n",
        "             arrowprops=dict(facecolor='black', shrink=0.05))\n",
        "\n",
        "# Exibindo os gráficos\n",
        "plt.tight_layout()\n",
        "plt.show()\n"
      ],
      "metadata": {
        "colab": {
          "base_uri": "https://localhost:8080/",
          "height": 487
        },
        "id": "nceXH-MqCaRM",
        "outputId": "2a34c465-4371-4713-b2f1-d0055e4c1759"
      },
      "execution_count": 11,
      "outputs": [
        {
          "output_type": "display_data",
          "data": {
            "text/plain": [
              "<Figure size 640x480 with 1 Axes>"
            ],
            "image/png": "[encoded data removed]"
          },
          "metadata": {}
        }
      ]
    },
    {
      "cell_type": "markdown",
      "source": [
        "### Analisando o gráfico"
      ],
      "metadata": {
        "id": "IhoYZdlpE1fT"
      }
    },
    {
      "cell_type": "markdown",
      "source": [
        "Obtivemos como resultado da média o valor 21.30.\n",
        "\n",
        "Sobre a distribuição dos valores:\n",
        "  * No eixo x encontra-se os pontos se espalhando entre 0 e 8, no eixo y existe os valores variando de 10 a 35, observa-se que, eles estão relativamente variados, com alguns pontos abaixo e outros acima da média.\n",
        "\n",
        "Sobre a dispersão dos dados:\n",
        "  * A dispersão dos pontos ao redor da linha da média (linha tracejada)indica a variabilidade dos dados. A maioria dos pontos estão relativamente próximos da média porém, os pontos mais distantes, indicam maior variabilidade.\n",
        "\n",
        "Podemos observar que, os valores estão aproximadamente distribuídos de forma igual acima e abaixo da média, indicando uma distribuição relativamente simétrica.\n"
      ],
      "metadata": {
        "id": "KW0zVS5uE4SA"
      }
    }
  ]
}