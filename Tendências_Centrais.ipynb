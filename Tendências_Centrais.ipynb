{
  "nbformat": 4,
  "nbformat_minor": 0,
  "metadata": {
    "colab": {
      "provenance": [],
      "authorship_tag": "ABX9TyPRfD0BEXDCbPzPBsa+gbrk",
      "include_colab_link": true
    },
    "kernelspec": {
      "name": "python3",
      "display_name": "Python 3"
    },
    "language_info": {
      "name": "python"
    }
  },
  "cells": [
    {
      "cell_type": "markdown",
      "metadata": {
        "id": "view-in-github",
        "colab_type": "text"
      },
      "source": [
        "<a href=\"https://colab.research.google.com/github/LuluTamaturgo/Data-Science/blob/main/Tend%C3%AAncias_Centrais.ipynb\" target=\"_parent\"><img src=\"https://colab.research.google.com/assets/colab-badge.svg\" alt=\"Open In Colab\"/></a>"
      ]
    },
    {
      "cell_type": "markdown",
      "source": [
        "# Tendências Centrais\n",
        "\n",
        "São medidas que indicam o centro de um conjunto de dados.\n"
      ],
      "metadata": {
        "id": "VIBE_JRbLuLH"
      }
    },
    {
      "cell_type": "markdown",
      "source": [
        "### As principais medidas:"
      ],
      "metadata": {
        "id": "u3LsohacHW8q"
      }
    },
    {
      "cell_type": "markdown",
      "source": [
        "* Média:\n",
        "  * é a soma dos dados divido pela sua contagem;\n",
        "* Moda:\n",
        "  * Valor mais frequente em um conjunto de dados;\n",
        "* Mediana:\n",
        "  * Representa o valor central de um conjunto de dados ordenados;\n"
      ],
      "metadata": {
        "id": "8wJO5_h9LbDX"
      }
    },
    {
      "cell_type": "markdown",
      "source": [
        "### Para que servem as tendências centrais?"
      ],
      "metadata": {
        "id": "NSbkOiOFIuDu"
      }
    },
    {
      "cell_type": "markdown",
      "source": [
        "* **Resumo de dados:**\n",
        "\n",
        "  * Nos ajudam a entender rapidamente as características principais de um conjunto de dados, sem a necessidade de analisar cada valor individualmente.\n",
        "\n",
        "* **Comparação:**\n",
        "  * Podemos comparar diferentes conjuntos de dados usando as tendências centrais. Por exemplo, podemos comparar a média de salários de duas cidades diferentes.\n",
        "\n",
        "* **Identificação de outliers:**\n",
        "  * nos ajuda a identificar valores atípicos (outliers) no conjunto de dados. Um outlier é um valor que está muito distante dos outros valores."
      ],
      "metadata": {
        "id": "8khy3_r_Iztt"
      }
    },
    {
      "cell_type": "markdown",
      "source": [
        "### Quando devo utilizar as Tendências Centrais em Data Science?\n",
        "\n",
        "* **Análise exploratória de dados:**\n",
        "  * Elas nos ajudam a ter uma primeira visão geral dos dados.\n",
        "\n",
        "* **Pré-processamento de dados:**\n",
        "  * As tendências centrais podem ser utilizadas para identificar e tratar outliers.\n",
        "\n",
        "* **Modelagem preditiva:**\n",
        "  * Algumas técnicas de modelagem preditiva, como a regressão linear, utilizam as tendências centrais como parte do processo de construção do modelo."
      ],
      "metadata": {
        "id": "fAvajjzjJkDL"
      }
    },
    {
      "cell_type": "markdown",
      "source": [
        "# Praticando:"
      ],
      "metadata": {
        "id": "6Tn2Wan5MZ7D"
      }
    },
    {
      "cell_type": "markdown",
      "source": [
        "Vamos coletar temperaturas de cidades brasileiras e, analisar as tendências centrais."
      ],
      "metadata": {
        "id": "pOyo14npMLch"
      }
    },
    {
      "cell_type": "code",
      "source": [
        "import pandas as pd"
      ],
      "metadata": {
        "id": "RcMQDz63Mk7S"
      },
      "execution_count": 1,
      "outputs": []
    },
    {
      "cell_type": "code",
      "source": [
        "# Criando um DataFrame de exemplo\n",
        "dados = {'Cidade': ['Aracaju', 'Rio Grande do Norte', 'Florianópolis', 'Santa Catarina', 'Salvador', 'Porto Alegre'],\n",
        "         'Temperatura Média (°C)': [21.5, 25.4, 10.8, 5.2, 28.1, 5.2]}\n",
        "\n",
        "df = pd.DataFrame(dados)"
      ],
      "metadata": {
        "id": "GPxkQsgKMyGh"
      },
      "execution_count": 7,
      "outputs": []
    },
    {
      "cell_type": "code",
      "source": [
        "#visualizando o dataframe:\n",
        "df"
      ],
      "metadata": {
        "colab": {
          "base_uri": "https://localhost:8080/",
          "height": 238
        },
        "id": "qRUNamjlOgMm",
        "outputId": "d35e43a4-1fc4-4fb0-9e68-0b441747bfbc"
      },
      "execution_count": 8,
      "outputs": [
        {
          "output_type": "execute_result",
          "data": {
            "text/plain": [
              "                Cidade  Temperatura Média (°C)\n",
              "0              Aracaju                    21.5\n",
              "1  Rio Grande do Norte                    25.4\n",
              "2        Florianópolis                    10.8\n",
              "3       Santa Catarina                     5.2\n",
              "4             Salvador                    28.1\n",
              "5         Porto Alegre                     5.2"
            ],
            "text/html": [
              "\n",
              "  <div id=\"df-e78c8fd5-4521-4619-afe3-a78090295fdf\" class=\"colab-df-container\">\n",
              "    <div>\n",
              "<style scoped>\n",
              "    .dataframe tbody tr th:only-of-type {\n",
              "        vertical-align: middle;\n",
              "    }\n",
              "\n",
              "    .dataframe tbody tr th {\n",
              "        vertical-align: top;\n",
              "    }\n",
              "\n",
              "    .dataframe thead th {\n",
              "        text-align: right;\n",
              "    }\n",
              "</style>\n",
              "<table border=\"1\" class=\"dataframe\">\n",
              "  <thead>\n",
              "    <tr style=\"text-align: right;\">\n",
              "      <th></th>\n",
              "      <th>Cidade</th>\n",
              "      <th>Temperatura Média (°C)</th>\n",
              "    </tr>\n",
              "  </thead>\n",
              "  <tbody>\n",
              "    <tr>\n",
              "      <th>0</th>\n",
              "      <td>Aracaju</td>\n",
              "      <td>21.5</td>\n",
              "    </tr>\n",
              "    <tr>\n",
              "      <th>1</th>\n",
              "      <td>Rio Grande do Norte</td>\n",
              "      <td>25.4</td>\n",
              "    </tr>\n",
              "    <tr>\n",
              "      <th>2</th>\n",
              "      <td>Florianópolis</td>\n",
              "      <td>10.8</td>\n",
              "    </tr>\n",
              "    <tr>\n",
              "      <th>3</th>\n",
              "      <td>Santa Catarina</td>\n",
              "      <td>5.2</td>\n",
              "    </tr>\n",
              "    <tr>\n",
              "      <th>4</th>\n",
              "      <td>Salvador</td>\n",
              "      <td>28.1</td>\n",
              "    </tr>\n",
              "    <tr>\n",
              "      <th>5</th>\n",
              "      <td>Porto Alegre</td>\n",
              "      <td>5.2</td>\n",
              "    </tr>\n",
              "  </tbody>\n",
              "</table>\n",
              "</div>\n",
              "    <div class=\"colab-df-buttons\">\n",
              "\n",
              "  <div class=\"colab-df-container\">\n",
              "    <button class=\"colab-df-convert\" onclick=\"convertToInteractive('df-e78c8fd5-4521-4619-afe3-a78090295fdf')\"\n",
              "            title=\"Convert this dataframe to an interactive table.\"\n",
              "            style=\"display:none;\">\n",
              "\n",
              "  <svg xmlns=\"http://www.w3.org/2000/svg\" height=\"24px\" viewBox=\"0 -960 960 960\">\n",
              "    <path d=\"M120-120v-720h720v720H120Zm60-500h600v-160H180v160Zm220 220h160v-160H400v160Zm0 220h160v-160H400v160ZM180-400h160v-160H180v160Zm440 0h160v-160H620v160ZM180-180h160v-160H180v160Zm440 0h160v-160H620v160Z\"/>\n",
              "  </svg>\n",
              "    </button>\n",
              "\n",
              "  <style>\n",
              "    .colab-df-container {\n",
              "      display:flex;\n",
              "      gap: 12px;\n",
              "    }\n",
              "\n",
              "    .colab-df-convert {\n",
              "      background-color: #E8F0FE;\n",
              "      border: none;\n",
              "      border-radius: 50%;\n",
              "      cursor: pointer;\n",
              "      display: none;\n",
              "      fill: #1967D2;\n",
              "      height: 32px;\n",
              "      padding: 0 0 0 0;\n",
              "      width: 32px;\n",
              "    }\n",
              "\n",
              "    .colab-df-convert:hover {\n",
              "      background-color: #E2EBFA;\n",
              "      box-shadow: 0px 1px 2px rgba(60, 64, 67, 0.3), 0px 1px 3px 1px rgba(60, 64, 67, 0.15);\n",
              "      fill: #174EA6;\n",
              "    }\n",
              "\n",
              "    .colab-df-buttons div {\n",
              "      margin-bottom: 4px;\n",
              "    }\n",
              "\n",
              "    [theme=dark] .colab-df-convert {\n",
              "      background-color: #3B4455;\n",
              "      fill: #D2E3FC;\n",
              "    }\n",
              "\n",
              "    [theme=dark] .colab-df-convert:hover {\n",
              "      background-color: #434B5C;\n",
              "      box-shadow: 0px 1px 3px 1px rgba(0, 0, 0, 0.15);\n",
              "      filter: drop-shadow(0px 1px 2px rgba(0, 0, 0, 0.3));\n",
              "      fill: #FFFFFF;\n",
              "    }\n",
              "  </style>\n",
              "\n",
              "    <script>\n",
              "      const buttonEl =\n",
              "        document.querySelector('#df-e78c8fd5-4521-4619-afe3-a78090295fdf button.colab-df-convert');\n",
              "      buttonEl.style.display =\n",
              "        google.colab.kernel.accessAllowed ? 'block' : 'none';\n",
              "\n",
              "      async function convertToInteractive(key) {\n",
              "        const element = document.querySelector('#df-e78c8fd5-4521-4619-afe3-a78090295fdf');\n",
              "        const dataTable =\n",
              "          await google.colab.kernel.invokeFunction('convertToInteractive',\n",
              "                                                    [key], {});\n",
              "        if (!dataTable) return;\n",
              "\n",
              "        const docLinkHtml = 'Like what you see? Visit the ' +\n",
              "          '<a target=\"_blank\" href=https://colab.research.google.com/notebooks/data_table.ipynb>data table notebook</a>'\n",
              "          + ' to learn more about interactive tables.';\n",
              "        element.innerHTML = '';\n",
              "        dataTable['output_type'] = 'display_data';\n",
              "        await google.colab.output.renderOutput(dataTable, element);\n",
              "        const docLink = document.createElement('div');\n",
              "        docLink.innerHTML = docLinkHtml;\n",
              "        element.appendChild(docLink);\n",
              "      }\n",
              "    </script>\n",
              "  </div>\n",
              "\n",
              "\n",
              "<div id=\"df-cffba309-697f-4655-90a1-b7b826823c8b\">\n",
              "  <button class=\"colab-df-quickchart\" onclick=\"quickchart('df-cffba309-697f-4655-90a1-b7b826823c8b')\"\n",
              "            title=\"Suggest charts\"\n",
              "            style=\"display:none;\">\n",
              "\n",
              "<svg xmlns=\"http://www.w3.org/2000/svg\" height=\"24px\"viewBox=\"0 0 24 24\"\n",
              "     width=\"24px\">\n",
              "    <g>\n",
              "        <path d=\"M19 3H5c-1.1 0-2 .9-2 2v14c0 1.1.9 2 2 2h14c1.1 0 2-.9 2-2V5c0-1.1-.9-2-2-2zM9 17H7v-7h2v7zm4 0h-2V7h2v10zm4 0h-2v-4h2v4z\"/>\n",
              "    </g>\n",
              "</svg>\n",
              "  </button>\n",
              "\n",
              "<style>\n",
              "  .colab-df-quickchart {\n",
              "      --bg-color: #E8F0FE;\n",
              "      --fill-color: #1967D2;\n",
              "      --hover-bg-color: #E2EBFA;\n",
              "      --hover-fill-color: #174EA6;\n",
              "      --disabled-fill-color: #AAA;\n",
              "      --disabled-bg-color: #DDD;\n",
              "  }\n",
              "\n",
              "  [theme=dark] .colab-df-quickchart {\n",
              "      --bg-color: #3B4455;\n",
              "      --fill-color: #D2E3FC;\n",
              "      --hover-bg-color: #434B5C;\n",
              "      --hover-fill-color: #FFFFFF;\n",
              "      --disabled-bg-color: #3B4455;\n",
              "      --disabled-fill-color: #666;\n",
              "  }\n",
              "\n",
              "  .colab-df-quickchart {\n",
              "    background-color: var(--bg-color);\n",
              "    border: none;\n",
              "    border-radius: 50%;\n",
              "    cursor: pointer;\n",
              "    display: none;\n",
              "    fill: var(--fill-color);\n",
              "    height: 32px;\n",
              "    padding: 0;\n",
              "    width: 32px;\n",
              "  }\n",
              "\n",
              "  .colab-df-quickchart:hover {\n",
              "    background-color: var(--hover-bg-color);\n",
              "    box-shadow: 0 1px 2px rgba(60, 64, 67, 0.3), 0 1px 3px 1px rgba(60, 64, 67, 0.15);\n",
              "    fill: var(--button-hover-fill-color);\n",
              "  }\n",
              "\n",
              "  .colab-df-quickchart-complete:disabled,\n",
              "  .colab-df-quickchart-complete:disabled:hover {\n",
              "    background-color: var(--disabled-bg-color);\n",
              "    fill: var(--disabled-fill-color);\n",
              "    box-shadow: none;\n",
              "  }\n",
              "\n",
              "  .colab-df-spinner {\n",
              "    border: 2px solid var(--fill-color);\n",
              "    border-color: transparent;\n",
              "    border-bottom-color: var(--fill-color);\n",
              "    animation:\n",
              "      spin 1s steps(1) infinite;\n",
              "  }\n",
              "\n",
              "  @keyframes spin {\n",
              "    0% {\n",
              "      border-color: transparent;\n",
              "      border-bottom-color: var(--fill-color);\n",
              "      border-left-color: var(--fill-color);\n",
              "    }\n",
              "    20% {\n",
              "      border-color: transparent;\n",
              "      border-left-color: var(--fill-color);\n",
              "      border-top-color: var(--fill-color);\n",
              "    }\n",
              "    30% {\n",
              "      border-color: transparent;\n",
              "      border-left-color: var(--fill-color);\n",
              "      border-top-color: var(--fill-color);\n",
              "      border-right-color: var(--fill-color);\n",
              "    }\n",
              "    40% {\n",
              "      border-color: transparent;\n",
              "      border-right-color: var(--fill-color);\n",
              "      border-top-color: var(--fill-color);\n",
              "    }\n",
              "    60% {\n",
              "      border-color: transparent;\n",
              "      border-right-color: var(--fill-color);\n",
              "    }\n",
              "    80% {\n",
              "      border-color: transparent;\n",
              "      border-right-color: var(--fill-color);\n",
              "      border-bottom-color: var(--fill-color);\n",
              "    }\n",
              "    90% {\n",
              "      border-color: transparent;\n",
              "      border-bottom-color: var(--fill-color);\n",
              "    }\n",
              "  }\n",
              "</style>\n",
              "\n",
              "  <script>\n",
              "    async function quickchart(key) {\n",
              "      const quickchartButtonEl =\n",
              "        document.querySelector('#' + key + ' button');\n",
              "      quickchartButtonEl.disabled = true;  // To prevent multiple clicks.\n",
              "      quickchartButtonEl.classList.add('colab-df-spinner');\n",
              "      try {\n",
              "        const charts = await google.colab.kernel.invokeFunction(\n",
              "            'suggestCharts', [key], {});\n",
              "      } catch (error) {\n",
              "        console.error('Error during call to suggestCharts:', error);\n",
              "      }\n",
              "      quickchartButtonEl.classList.remove('colab-df-spinner');\n",
              "      quickchartButtonEl.classList.add('colab-df-quickchart-complete');\n",
              "    }\n",
              "    (() => {\n",
              "      let quickchartButtonEl =\n",
              "        document.querySelector('#df-cffba309-697f-4655-90a1-b7b826823c8b button');\n",
              "      quickchartButtonEl.style.display =\n",
              "        google.colab.kernel.accessAllowed ? 'block' : 'none';\n",
              "    })();\n",
              "  </script>\n",
              "</div>\n",
              "\n",
              "  <div id=\"id_3bca45f2-4b6c-4063-ac34-75e16a944c96\">\n",
              "    <style>\n",
              "      .colab-df-generate {\n",
              "        background-color: #E8F0FE;\n",
              "        border: none;\n",
              "        border-radius: 50%;\n",
              "        cursor: pointer;\n",
              "        display: none;\n",
              "        fill: #1967D2;\n",
              "        height: 32px;\n",
              "        padding: 0 0 0 0;\n",
              "        width: 32px;\n",
              "      }\n",
              "\n",
              "      .colab-df-generate:hover {\n",
              "        background-color: #E2EBFA;\n",
              "        box-shadow: 0px 1px 2px rgba(60, 64, 67, 0.3), 0px 1px 3px 1px rgba(60, 64, 67, 0.15);\n",
              "        fill: #174EA6;\n",
              "      }\n",
              "\n",
              "      [theme=dark] .colab-df-generate {\n",
              "        background-color: #3B4455;\n",
              "        fill: #D2E3FC;\n",
              "      }\n",
              "\n",
              "      [theme=dark] .colab-df-generate:hover {\n",
              "        background-color: #434B5C;\n",
              "        box-shadow: 0px 1px 3px 1px rgba(0, 0, 0, 0.15);\n",
              "        filter: drop-shadow(0px 1px 2px rgba(0, 0, 0, 0.3));\n",
              "        fill: #FFFFFF;\n",
              "      }\n",
              "    </style>\n",
              "    <button class=\"colab-df-generate\" onclick=\"generateWithVariable('df')\"\n",
              "            title=\"Generate code using this dataframe.\"\n",
              "            style=\"display:none;\">\n",
              "\n",
              "  <svg xmlns=\"http://www.w3.org/2000/svg\" height=\"24px\"viewBox=\"0 0 24 24\"\n",
              "       width=\"24px\">\n",
              "    <path d=\"M7,19H8.4L18.45,9,17,7.55,7,17.6ZM5,21V16.75L18.45,3.32a2,2,0,0,1,2.83,0l1.4,1.43a1.91,1.91,0,0,1,.58,1.4,1.91,1.91,0,0,1-.58,1.4L9.25,21ZM18.45,9,17,7.55Zm-12,3A5.31,5.31,0,0,0,4.9,8.1,5.31,5.31,0,0,0,1,6.5,5.31,5.31,0,0,0,4.9,4.9,5.31,5.31,0,0,0,6.5,1,5.31,5.31,0,0,0,8.1,4.9,5.31,5.31,0,0,0,12,6.5,5.46,5.46,0,0,0,6.5,12Z\"/>\n",
              "  </svg>\n",
              "    </button>\n",
              "    <script>\n",
              "      (() => {\n",
              "      const buttonEl =\n",
              "        document.querySelector('#id_3bca45f2-4b6c-4063-ac34-75e16a944c96 button.colab-df-generate');\n",
              "      buttonEl.style.display =\n",
              "        google.colab.kernel.accessAllowed ? 'block' : 'none';\n",
              "\n",
              "      buttonEl.onclick = () => {\n",
              "        google.colab.notebook.generateWithVariable('df');\n",
              "      }\n",
              "      })();\n",
              "    </script>\n",
              "  </div>\n",
              "\n",
              "    </div>\n",
              "  </div>\n"
            ],
            "application/vnd.google.colaboratory.intrinsic+json": {
              "type": "dataframe",
              "variable_name": "df",
              "summary": "{\n  \"name\": \"df\",\n  \"rows\": 6,\n  \"fields\": [\n    {\n      \"column\": \"Cidade\",\n      \"properties\": {\n        \"dtype\": \"string\",\n        \"num_unique_values\": 6,\n        \"samples\": [\n          \"Aracaju\",\n          \"Rio Grande do Norte\",\n          \"Porto Alegre\"\n        ],\n        \"semantic_type\": \"\",\n        \"description\": \"\"\n      }\n    },\n    {\n      \"column\": \"Temperatura M\\u00e9dia (\\u00b0C)\",\n      \"properties\": {\n        \"dtype\": \"number\",\n        \"std\": 10.250203250017371,\n        \"min\": 5.2,\n        \"max\": 28.1,\n        \"num_unique_values\": 5,\n        \"samples\": [\n          25.4,\n          28.1,\n          10.8\n        ],\n        \"semantic_type\": \"\",\n        \"description\": \"\"\n      }\n    }\n  ]\n}"
            }
          },
          "metadata": {},
          "execution_count": 8
        }
      ]
    },
    {
      "cell_type": "code",
      "source": [
        "#Calculando as tendências centrais:\n",
        "\n",
        "media = df['Temperatura Média (°C)'].mean()\n",
        "mediana = df['Temperatura Média (°C)'].median()\n",
        "moda = df['Temperatura Média (°C)'].mode()"
      ],
      "metadata": {
        "id": "yQ27va7ROX7R"
      },
      "execution_count": 9,
      "outputs": []
    },
    {
      "cell_type": "code",
      "source": [
        "#Explicando o resultado:\n",
        "\n",
        "print(\"\\nMédia:\")\n",
        "print(f\"A temperatura média nas cidades é de {media:.2f}°C.\")\n",
        "print(\"A média é útil para ter uma noção geral da temperatura, mas pode ser influenciada por valores extremos.\")\n",
        "\n",
        "print(\"\\nMediana:\")\n",
        "print(f\"A temperatura mediana nas cidades é de {mediana:.2f}°C.\")\n",
        "print(\"A mediana é menos sensível a outliers (valores extremos) do que a média.\")\n",
        "\n",
        "print(\"\\nModa:\")\n",
        "print(f\"A temperatura modal nas cidades é {moda.iloc[0]:.2f}°C.\")\n",
        "print(\"A moda indica o valor que ocorre com mais frequência no conjunto de dados.\")"
      ],
      "metadata": {
        "colab": {
          "base_uri": "https://localhost:8080/"
        },
        "id": "5JtSbSJPPjKy",
        "outputId": "c85496a8-58aa-4d4e-80b2-6c3939432a27"
      },
      "execution_count": 10,
      "outputs": [
        {
          "output_type": "stream",
          "name": "stdout",
          "text": [
            "\n",
            "Média:\n",
            "A temperatura média nas cidades é de 16.03°C.\n",
            "A média é útil para ter uma noção geral da temperatura, mas pode ser influenciada por valores extremos.\n",
            "\n",
            "Mediana:\n",
            "A temperatura mediana nas cidades é de 16.15°C.\n",
            "A mediana é menos sensível a outliers (valores extremos) do que a média.\n",
            "\n",
            "Moda:\n",
            "A temperatura modal nas cidades é 5.20°C.\n",
            "A moda indica o valor que ocorre com mais frequência no conjunto de dados.\n"
          ]
        }
      ]
    },
    {
      "cell_type": "markdown",
      "source": [
        "### Analisando os resultados:"
      ],
      "metadata": {
        "id": "xnqLnk1QQRCA"
      }
    },
    {
      "cell_type": "markdown",
      "source": [
        "* **Média:**\n",
        "\n",
        "É a soma de todas as tempeturas divido pela quantidade de cidades. Nos apresenta um ideia geral do centro do conjunto de dados, ou seja, em média, as cidades analisadas possuem uma temperatura de *16.03°C*.\n",
        "\n",
        "* **Mediana:**\n",
        "\n",
        "É o valor que divide o conjunto de dados ao meio, ou seja, 50% dos valores estão acima dela e 50% dos valores estão abaixo dela.\n",
        "Esta medida é menos sensível a outliers do que a média,  Por exemplo, se a cidade de Salvador tivesse uma temperatura média de 40°C ao invés de 28.1°C, a média subiria bastante, mas a mediana sofreria menos alteração.\n",
        "\n",
        "* **Moda:**\n",
        "É o valor que aparece mais vezes no conjunto de dados, no caso, em Santa Catarina e Porto Alegre, a tempertura 5.2"
      ],
      "metadata": {
        "id": "EBpV5m6cQUJm"
      }
    },
    {
      "cell_type": "markdown",
      "source": [
        "# Criando um gráfico para representar o resultado"
      ],
      "metadata": {
        "id": "zpxo5y3_S1O3"
      }
    },
    {
      "cell_type": "code",
      "source": [
        "import matplotlib.pyplot as plt"
      ],
      "metadata": {
        "id": "d9taAOvCTDvc"
      },
      "execution_count": 20,
      "outputs": []
    },
    {
      "cell_type": "code",
      "source": [
        "fig, ax = plt.subplots()\n",
        "ax.barh(['Média', 'Mediana', 'Moda'], [media, mediana, moda.iloc[0]], color='skyblue')\n",
        "ax.set_xlabel('Temperatura (°C)')\n",
        "ax.set_title('Tendências Centrais da Temperatura Média das Cidades')\n",
        "ax.invert_yaxis()  # Invertendo o eixo y para deixar a Média no topo\n",
        "\n",
        "# Exibindo o gráfico\n",
        "plt.show()"
      ],
      "metadata": {
        "colab": {
          "base_uri": "https://localhost:8080/",
          "height": 472
        },
        "id": "5Xj-wFoaVJnv",
        "outputId": "d455412e-4611-487d-c646-7799c377e72f"
      },
      "execution_count": 21,
      "outputs": [
        {
          "output_type": "display_data",
          "data": {
            "text/plain": [
              "<Figure size 640x480 with 1 Axes>"
            ],
            "image/png": "[encoded data removed]"
          },
          "metadata": {}
        }
      ]
    }
  ]
}